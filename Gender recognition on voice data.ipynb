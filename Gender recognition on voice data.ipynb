{
 "cells": [
  {
   "cell_type": "code",
   "execution_count": 46,
   "metadata": {},
   "outputs": [],
   "source": [
    "import pandas as pd\n",
    "import numpy as np\n",
    "import tensorflow as tf\n",
    "from sklearn.model_selection import train_test_split"
   ]
  },
  {
   "cell_type": "code",
   "execution_count": 5,
   "metadata": {},
   "outputs": [
    {
     "name": "stdout",
     "output_type": "stream",
     "text": [
      "Index(['meanfreq', 'sd', 'median', 'Q25', 'Q75', 'IQR', 'skew', 'kurt',\n",
      "       'sp.ent', 'sfm', 'mode', 'centroid', 'meanfun', 'minfun', 'maxfun',\n",
      "       'meandom', 'mindom', 'maxdom', 'dfrange', 'modindx', 'label'],\n",
      "      dtype='object')\n"
     ]
    }
   ],
   "source": [
    "df = pd.read_csv(r\"C:/Users/atjayade/Downloads/voice.csv\")\n",
    "print(df.columns)"
   ]
  },
  {
   "cell_type": "code",
   "execution_count": 6,
   "metadata": {},
   "outputs": [],
   "source": [
    "for i, v in df.iterrows():\n",
    "    if v['label'] == 'male':\n",
    "        df.at[i, 'label'] = 1\n",
    "    else:\n",
    "        df.at[i, 'label'] = 0"
   ]
  },
  {
   "cell_type": "code",
   "execution_count": 17,
   "metadata": {},
   "outputs": [],
   "source": [
    "label = df['label'].values\n",
    "df = df.drop('label', axis=1)\n",
    "data = df.values"
   ]
  },
  {
   "cell_type": "code",
   "execution_count": 47,
   "metadata": {},
   "outputs": [],
   "source": [
    "x_train, x_test, y_train, y_test =train_test_split(data, label,test_size=0.25, random_state=42)"
   ]
  },
  {
   "cell_type": "code",
   "execution_count": 49,
   "metadata": {},
   "outputs": [
    {
     "name": "stdout",
     "output_type": "stream",
     "text": [
      "2376\n",
      "792\n",
      "20\n"
     ]
    }
   ],
   "source": [
    "print(len(x_train))\n",
    "print(len(x_test))\n",
    "print(len(df.columns))"
   ]
  },
  {
   "cell_type": "code",
   "execution_count": 54,
   "metadata": {},
   "outputs": [
    {
     "name": "stdout",
     "output_type": "stream",
     "text": [
      "Epoch 1/20\n",
      "2376/2376 [==============================] - 1s 247us/sample - loss: 0.9362 - acc: 0.4941\n",
      "Epoch 2/20\n",
      "2376/2376 [==============================] - 0s 60us/sample - loss: 0.8250 - acc: 0.5354\n",
      "Epoch 3/20\n",
      "2376/2376 [==============================] - 0s 60us/sample - loss: 0.7632 - acc: 0.5913\n",
      "Epoch 4/20\n",
      "2376/2376 [==============================] - 0s 60us/sample - loss: 0.6752 - acc: 0.6481\n",
      "Epoch 5/20\n",
      "2376/2376 [==============================] - 0s 62us/sample - loss: 0.6120 - acc: 0.6780\n",
      "Epoch 6/20\n",
      "2376/2376 [==============================] - 0s 62us/sample - loss: 0.5755 - acc: 0.7100\n",
      "Epoch 7/20\n",
      "2376/2376 [==============================] - 0s 63us/sample - loss: 0.5473 - acc: 0.7428\n",
      "Epoch 8/20\n",
      "2376/2376 [==============================] - 0s 63us/sample - loss: 0.5010 - acc: 0.7668\n",
      "Epoch 9/20\n",
      "2376/2376 [==============================] - 0s 63us/sample - loss: 0.5002 - acc: 0.7622\n",
      "Epoch 10/20\n",
      "2376/2376 [==============================] - 0s 60us/sample - loss: 0.4407 - acc: 0.7992\n",
      "Epoch 11/20\n",
      "2376/2376 [==============================] - 0s 73us/sample - loss: 0.4281 - acc: 0.8060\n",
      "Epoch 12/20\n",
      "2376/2376 [==============================] - 0s 75us/sample - loss: 0.4217 - acc: 0.8043\n",
      "Epoch 13/20\n",
      "2376/2376 [==============================] - 0s 71us/sample - loss: 0.3986 - acc: 0.8169\n",
      "Epoch 14/20\n",
      "2376/2376 [==============================] - 0s 65us/sample - loss: 0.3877 - acc: 0.8102\n",
      "Epoch 15/20\n",
      "2376/2376 [==============================] - 0s 64us/sample - loss: 0.3803 - acc: 0.8241\n",
      "Epoch 16/20\n",
      "2376/2376 [==============================] - 0s 58us/sample - loss: 0.3691 - acc: 0.8426\n",
      "Epoch 17/20\n",
      "2376/2376 [==============================] - 0s 78us/sample - loss: 0.3976 - acc: 0.8228\n",
      "Epoch 18/20\n",
      "2376/2376 [==============================] - 0s 81us/sample - loss: 0.3439 - acc: 0.8481\n",
      "Epoch 19/20\n",
      "2376/2376 [==============================] - 0s 65us/sample - loss: 0.3491 - acc: 0.8447\n",
      "Epoch 20/20\n",
      "2376/2376 [==============================] - 0s 64us/sample - loss: 0.3334 - acc: 0.8514\n"
     ]
    },
    {
     "data": {
      "text/plain": [
       "<tensorflow.python.keras.callbacks.History at 0x20026eb5978>"
      ]
     },
     "execution_count": 54,
     "metadata": {},
     "output_type": "execute_result"
    }
   ],
   "source": [
    "model = tf.keras.Sequential([\n",
    "    tf.keras.layers.Dense(20, activation = tf.nn.relu, input_shape=[20]),\n",
    "    tf.keras.layers.Dropout(0.2),\n",
    "    \n",
    "    tf.keras.layers.Dense(60, activation=tf.nn.relu),\n",
    "    tf.keras.layers.Dropout(0.3),\n",
    "    tf.keras.layers.Dense(30, activation=tf.nn.relu),\n",
    "    tf.keras.layers.Dropout(0.2),\n",
    "    tf.keras.layers.Dense(1, activation=tf.nn.sigmoid)\n",
    "])\n",
    "\n",
    "opt = tf.keras.optimizers.Adam(lr=0.005)\n",
    "model.compile(optimizer=opt,loss='binary_crossentropy', metrics=['accuracy'])\n",
    "\n",
    "model.fit(x_train, y_train, epochs=20)\n",
    "\n"
   ]
  },
  {
   "cell_type": "code",
   "execution_count": 55,
   "metadata": {},
   "outputs": [
    {
     "name": "stdout",
     "output_type": "stream",
     "text": [
      "668/668 [==============================] - 0s 415us/sample - loss: 0.2227 - acc: 0.8338\n"
     ]
    }
   ],
   "source": [
    "loss, score = model.evaluate(test_data, test_labels)"
   ]
  },
  {
   "cell_type": "code",
   "execution_count": null,
   "metadata": {},
   "outputs": [],
   "source": []
  }
 ],
 "metadata": {
  "kernelspec": {
   "display_name": "Python 3",
   "language": "python",
   "name": "python3"
  },
  "language_info": {
   "codemirror_mode": {
    "name": "ipython",
    "version": 3
   },
   "file_extension": ".py",
   "mimetype": "text/x-python",
   "name": "python",
   "nbconvert_exporter": "python",
   "pygments_lexer": "ipython3",
   "version": "3.7.3"
  }
 },
 "nbformat": 4,
 "nbformat_minor": 2
}
